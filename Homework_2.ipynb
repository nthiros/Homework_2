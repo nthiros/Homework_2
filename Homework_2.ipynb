{
 "cells": [
  {
   "cell_type": "markdown",
   "metadata": {},
   "source": [
    "# Homework 2 (Due Sep. 27) \n",
    "Problems marked with a (\\*) are only required for graduate students.  Undergrads may undertake them for extra credit worth half the problems point value, with no penalties incurred for an incorrect answer."
   ]
  },
  {
   "cell_type": "markdown",
   "metadata": {},
   "source": [
    "Nicholas Thiros"
   ]
  },
  {
   "cell_type": "markdown",
   "metadata": {},
   "source": [
    "## 1. Bayesian Networks/Conditional Probability"
   ]
  },
  {
   "cell_type": "markdown",
   "metadata": {},
   "source": [
    "Consider three binary variables $a, b, c \\in \\{0, 1\\}$ having the joint distribution given by  "
   ]
  },
  {
   "cell_type": "code",
   "execution_count": 1,
   "metadata": {},
   "outputs": [],
   "source": [
    "import numpy as np\n",
    "#        | a | b | c | P(a,b,c)\n",
    "P_table = (\n",
    "np.array([[0,  0,  0,  0.192 ],\n",
    "          [0,  0,  1,  0.144 ],\n",
    "          [0,  1,  0,  0.048 ],\n",
    "          [0,  1,  1,  0.216 ],\n",
    "          [1,  0,  0,  0.192 ],\n",
    "          [1,  0,  1,  0.064 ],\n",
    "          [1,  1,  0,  0.048 ],\n",
    "          [1,  1,  1,  0.096 ]]))\n",
    "\n",
    "# Convert P_table (which is a probability table) to a probability array, which \n",
    "# is much more computationally sensible for a discrete valued distribution\n",
    "P_abc = np.zeros((2,2,2))\n",
    "for entry in P_table:\n",
    "    a = int(entry[0])\n",
    "    b = int(entry[1])\n",
    "    c = int(entry[2])\n",
    "    P = entry[3]\n",
    "    P_abc[a,b,c] = P\n",
    "    \n",
    "#print(P_abc[0,1,1])"
   ]
  },
  {
   "cell_type": "markdown",
   "metadata": {},
   "source": [
    "Note that you may want to use the following functions to help you in the following problem:"
   ]
  },
  {
   "cell_type": "code",
   "execution_count": 2,
   "metadata": {},
   "outputs": [],
   "source": [
    "def marginalize(P,variables_to_marginalize=(),keepdims=True):\n",
    "    \"\"\" Marginalize a probability table, i.e. compute P(a,b) = sum_c P(a,b,c) \n",
    "    \n",
    "        Arguments: \n",
    "        \n",
    "        P (array) -> a probability array in which the dimensions correspond to random variables,\n",
    "                     the indices to variable values, and the entries to probabilities\n",
    "        variables_to_marginalize (tuple) -> a list of integers containing the \n",
    "                                    variable numbers to marginalize over\n",
    "        keepdims (boolean) -> Marginalization reduces the dimensionality of the distribution.  keepdims=False\n",
    "                       removes that dimension from the array indexing scheme.  For example P(a,b,c) has\n",
    "                       an array that is 2x2x2.  If we marginalize over variable/index 1 (aka b), then the \n",
    "                       resulting array P(a,c) is 2x2 if keepdims=False (which may change the index of a \n",
    "                       given variable.  For example, after marginalizing, variable/index 1 is now c).  \n",
    "                       Conversely, the array becomes 2x1x2 if keepdims=True.\n",
    "    \n",
    "    \"\"\"\n",
    "    # Sum over the axes given in variables_to_marginalize\n",
    "    return np.sum(P,axis=variables_to_marginalize,keepdims=keepdims)\n",
    "\n",
    "def condition(P,variables_to_condition=()):\n",
    "    \"\"\" Condition a probability table, i.e. compute P(a|c) = P(a,c)/P(c) \n",
    "    \n",
    "        Arguments: \n",
    "        \n",
    "        P (array) -> a probability array in which the dimensions correspond to random variables,\n",
    "                     the indices to variable values, and the entries to probabilities\n",
    "        variables_to_condition (tuple) -> a list of integers containing the variables to condition on\n",
    "        \n",
    "        NOTE: This function always returns an array that is the same size as the input.  However, this array\n",
    "        no longer sums to one as does an unconditioned joint distribution.  Instead, it sums to one only given\n",
    "        a particular value of the conditioned variable/index.  For example:\n",
    "        \n",
    "        P_abc.sum()==1 -> True\n",
    "        P_ab_given_c = condition(P_abc,variables_to_condition=(2,))\n",
    "        P_ab_given_c.sum()==1 -> False\n",
    "        P_ab_given_c[:,:,0].sum()==1 -> True\n",
    "        P_ab_given_c[:,:,1].sum()==1 -> True\n",
    "   \n",
    "    \"\"\"\n",
    "    # find the variables to marginalize over to get the marginal distribuion of the\n",
    "    # variables that we wish to condition on\n",
    "    v_to_m = list(range(P.ndim))\n",
    "    for v in variables_to_condition:\n",
    "        v_to_m.remove(v)\n",
    "    # Compute the conditional by dividing the input by the output\n",
    "    return P/marginalize(P,variables_to_marginalize=tuple(v_to_m),keepdims=True)\n",
    "    \n",
    "P_ab = marginalize(P_abc,variables_to_marginalize=(2,)) #would this be P_bc? We are marginilzing over index 0, which is 'a'\n",
    "P_a_given_b = condition(P_ab,variables_to_condition=(1,))\n"
   ]
  },
  {
   "cell_type": "markdown",
   "metadata": {},
   "source": [
    "### Joint distribution equivalency (20 pts)\n",
    "Show by direct evaluation that $P(a,b,c) = P(a)P(c|a)P(b|c)$ for all values of $a$,$b$, and $c$."
   ]
  },
  {
   "cell_type": "code",
   "execution_count": 3,
   "metadata": {},
   "outputs": [
    {
     "name": "stdout",
     "output_type": "stream",
     "text": [
      "Joint Probability\n",
      " [[[0.192 0.144]\n",
      "  [0.048 0.216]]\n",
      "\n",
      " [[0.192 0.064]\n",
      "  [0.048 0.096]]]\n",
      "\n",
      "Original Joint Probabalities:\n",
      " [0.192 0.144 0.048 0.216 0.192 0.064 0.048 0.096]\n"
     ]
    }
   ],
   "source": [
    "P_a = marginalize(P_abc, variables_to_marginalize=(1,2))\n",
    "P_ca = marginalize(P_abc, variables_to_marginalize=(1))\n",
    "P_bc = marginalize(P_abc, variables_to_marginalize=(0))\n",
    "\n",
    "P_c_given_a = condition(P_ca, variables_to_condition=(0,))\n",
    "P_b_given_c = condition(P_bc, variables_to_condition=(2,))\n",
    "\n",
    "P_a_b_c = P_a * P_c_given_a * P_b_given_c\n",
    "\n",
    "print('Joint Probability\\n',P_a_b_c)\n",
    "print('\\nOriginal Joint Probabalities:\\n',P_table[:,3])"
   ]
  },
  {
   "cell_type": "markdown",
   "metadata": {},
   "source": [
    "This probability, which was obtained by applying the chain rule, is equivalent to the full joint probability table that is given.  This indicates that, indeed, this factorization is valid."
   ]
  },
  {
   "cell_type": "markdown",
   "metadata": {},
   "source": [
    "### Graph Visualization (10 pts)\n",
    "\n",
    "Visualize the corresponding directed graph, either using graph software like [networkx](https://networkx.github.io/) or drawing it by hand."
   ]
  },
  {
   "cell_type": "code",
   "execution_count": 4,
   "metadata": {},
   "outputs": [
    {
     "data": {
      "text/plain": [
       "<Figure size 640x480 with 1 Axes>"
      ]
     },
     "metadata": {},
     "output_type": "display_data"
    }
   ],
   "source": [
    "import matplotlib.pyplot as plt\n",
    "import networkx as nx\n",
    "\n",
    "G = nx.DiGraph()\n",
    "rvs = ['A','B','C']\n",
    "\n",
    "G.add_nodes_from(rvs)\n",
    "\n",
    "G.add_edges_from([('B', 'C'),('C','A')], weight=2)\n",
    "nx.draw_networkx(G, arrows=True)\n",
    "\n",
    "plt.show()"
   ]
  },
  {
   "cell_type": "markdown",
   "metadata": {},
   "source": [
    "### A Trick Question in Graphs (\\*) (10 pts)\n",
    "Plot the graph associated with\n",
    "$$\n",
    "P(A,B,C,D,E) = P(A)P(C)P(B|A,C)P(D|C)P(E|D),\n",
    "$$\n",
    "where $A,B,C,D,E \\in \\{0,1\\}$ with conditional probability tables\n",
    "\\begin{align}\n",
    "P(A=1) &= 0.3 \\nonumber \\\\\n",
    "P(C=1) &= 0.7 \\nonumber \\\\\n",
    "P(B=1|A,C) &= \\begin{cases} 0.3\\,\\mathrm{if}\\,A=0,C=0\\\\\n",
    "                          0.7\\,\\mathrm{if}\\,A=1,C=0\\\\\n",
    "                          0.1\\,\\mathrm{if}\\,A=0,C=1\\\\\n",
    "                          0.9\\,\\mathrm{if}\\,A=1,C=1 \\end{cases} \\nonumber \\\\\n",
    "P(D=1|C) &= \\begin{cases}   0.4\\,\\mathrm{if}\\,C=0\\\\\n",
    "                          0.2\\,\\mathrm{if}\\,C=1 \\end{cases} \\nonumber \\\\\n",
    "P(E=1|D) &= \\begin{cases}   0.1\\,\\mathrm{if}\\,D=0\\\\\n",
    "                          0.1\\,\\mathrm{if}\\,D=1 \\end{cases}. \\nonumber\n",
    "\\end{align}\n",
    "Compute the probability $P(A=1|E=1,C=1)$.  Be sure to think carefully about conditional independence before pulling out your calculator."
   ]
  },
  {
   "cell_type": "code",
   "execution_count": 5,
   "metadata": {},
   "outputs": [
    {
     "data": {
      "image/png": "[encoded data removed]",
      "text/plain": [
       "<Figure size 432x288 with 1 Axes>"
      ]
     },
     "metadata": {},
     "output_type": "display_data"
    }
   ],
   "source": [
    "G = nx.DiGraph()\n",
    "rvs = ['A','B','C','D','E']\n",
    "\n",
    "G.add_nodes_from(rvs)\n",
    "\n",
    "G.add_edges_from([('C', 'B'),('A','B'),('C','D'),('D','E')], weight=2)\n",
    "nx.draw_networkx(G, arrows=True)\n",
    "\n",
    "plt.show()"
   ]
  },
  {
   "cell_type": "markdown",
   "metadata": {},
   "source": [
    "According to the graph, the probability of A is independent of the probabilities of C and E.  Hence, $$\\mathrm{P(A=1|E=1,C=1)=P(A=1)=0.3}$$ This is identical to its original probability of A."
   ]
  },
  {
   "cell_type": "markdown",
   "metadata": {},
   "source": [
    "## 2.Gene Sequence Clustering"
   ]
  },
  {
   "cell_type": "markdown",
   "metadata": {},
   "source": [
    "### 2a. Training a Markov model (40 pts)\n",
    "Load the file genes\\_training.p, which is available in this homework archive.  genes\\_training.p contains 2000 sequences, with each sequence $\\mathbf{s}$ consisting of 20 nucleobases $s_i \\in \\mathrm{Nu},\\; \\mathrm{Nu} = \\{A,T,G,C\\}$.  Each of these sequences is generated from one of two separate Markov processes.  The label (aka class) of the process that generated the sequence is given in the dataset. \n",
    "\n",
    "Learn the Markov model for each class given the training data.  **To do this, for each class compute the prior probability $\\mathbf{\\pi}_c$ of each nucleobase (the relative frequency of each nucleobase for each class, a vector of length 4) and the matrix of transition probabilities** \n",
    "$$\n",
    "\\mathcal{A}_{c,kj} = P(s_{i+1}=\\mathrm{Nu}_j|s_{i}=\\mathrm{Nu}_k),\n",
    "$$ \n",
    "which is a 4 by 4 matrix.  As a quick sanity check, each row of $\\mathcal{A}_c$ should sum to one.  **Using these priors and transition matrices, write a function that generates a new sequence given the class**, i.e. simulates a data point. "
   ]
  },
  {
   "cell_type": "code",
   "execution_count": 6,
   "metadata": {},
   "outputs": [
    {
     "name": "stdout",
     "output_type": "stream",
     "text": [
      "\n",
      "Training set 0 priors [A T G C]\n",
      " [0.28145 0.26535 0.31195 0.14125]\n",
      "\n",
      "Training set 1 priors [A T G C]\n",
      " [0.332  0.1008 0.1901 0.3771]\n",
      "\n",
      "Training set 0 transitions [[AA AT AG AC][TA TT TG TC][GA GT GG GC][CA CT CG CC]]\n",
      " [[0.22677903 0.31910112 0.42771536 0.02640449]\n",
      " [0.20329889 0.17786169 0.26331479 0.35552464]\n",
      " [0.44653982 0.30527025 0.24381209 0.00437784]\n",
      " [0.17069543 0.24581629 0.31349944 0.26998884]]\n",
      "\n",
      "Training set 1 transitions [[AA AT AG AC][TA TT TG TC][GA GT GG GC][CA CT CG CC]]\n",
      " [[0.14585319 0.04671115 0.34429616 0.4631395 ]\n",
      " [0.24204486 0.23213354 0.40114763 0.12467397]\n",
      " [0.67282249 0.18467475 0.06174201 0.08076075]\n",
      " [0.35344226 0.0474794  0.04510543 0.55397291]]\n",
      "\n",
      "Simulated Sequence 0\n",
      " ['G' 'G' 'A' 'T' 'C' 'G' 'A' 'T' 'T' 'G' 'A' 'T' 'C' 'G' 'A' 'A' 'T' 'G'\n",
      " 'A' 'G']\n",
      "\n",
      "Simulated Sequence 1\n",
      " ['A' 'G' 'A' 'G' 'A' 'G' 'G' 'T' 'T' 'T' 'T' 'G' 'A' 'C' 'C' 'C' 'C' 'C'\n",
      " 'G' 'T']\n"
     ]
    }
   ],
   "source": [
    "import pickle\n",
    "import numpy as np\n",
    "\n",
    "# Define some useful constants\n",
    "N_nucleobases = 4\n",
    "N_classes = 2\n",
    "nucleobases = ['A','T','G','C']\n",
    "\n",
    "# Load the training data using pickle\n",
    "sequences,labels = pickle.load(open('genes_training.p','rb'))\n",
    "\n",
    "\n",
    "# Initialize the class priors and transition matrices\n",
    "pi_0 = np.zeros((N_nucleobases))\n",
    "pi_1 = np.zeros((N_nucleobases))\n",
    "\n",
    "A_0 = np.zeros((N_nucleobases,N_nucleobases))\n",
    "A_1 = np.zeros((N_nucleobases,N_nucleobases))\n",
    "\n",
    "\n",
    "##### Train prior #####\n",
    "\n",
    "# Loop over all of the sequences and labels\n",
    "\n",
    "for s,l in zip(sequences,labels):\n",
    "    sequence_length = len(s)\n",
    "    for p in range(sequence_length):\n",
    "        if l == 0:\n",
    "            if s[p]=='A':\n",
    "                pi_0[0] += 1\n",
    "            elif s[p]=='T':\n",
    "                pi_0[1] += 1\n",
    "            elif s[p]=='G':\n",
    "                pi_0[2] += 1\n",
    "            elif s[p]=='C':\n",
    "                pi_0[3] += 1\n",
    "        if l == 1:\n",
    "            if s[p]=='A':\n",
    "                pi_1[0] += 1\n",
    "            elif s[p]=='T':\n",
    "                pi_1[1] += 1\n",
    "            elif s[p]=='G':\n",
    "                pi_1[2] += 1\n",
    "            elif s[p]=='C':\n",
    "                pi_1[3] += 1\n",
    "\n",
    "# Convert from counts to probabilities by normalizing\n",
    "pi_0/=pi_0.sum()\n",
    "print('\\nTraining set 0 priors [A T G C]\\n',(pi_0))\n",
    "pi_1/=pi_1.sum()\n",
    "print('\\nTraining set 1 priors [A T G C]\\n',pi_1)\n",
    "\n",
    "##### Train transition matrix #####\n",
    "for s,l in zip(sequences,labels):\n",
    "    sequence_length = len(s)\n",
    "    for p in range(sequence_length-1):\n",
    "        if l == 0:\n",
    "            for i in range(len(nucleobases)):\n",
    "                if s[p] == nucleobases[i]:\n",
    "                    if s[p+1] == 'A':\n",
    "                        A_0[i,0] += 1\n",
    "                    if s[p+1] == 'T':\n",
    "                        A_0[i,1] += 1\n",
    "                    if s[p+1] == 'G':\n",
    "                        A_0[i,2] += 1\n",
    "                    if s[p+1] == 'C':\n",
    "                        A_0[i,3] += 1\n",
    "        if l == 1:\n",
    "            for i in range(4):\n",
    "                if s[p] == nucleobases[i]:\n",
    "                    if s[p+1] == 'A':\n",
    "                        A_1[i,0] += 1\n",
    "                    if s[p+1] == 'T':\n",
    "                        A_1[i,1] += 1\n",
    "                    if s[p+1] == 'G':\n",
    "                        A_1[i,2] += 1\n",
    "                    if s[p+1] == 'C':\n",
    "                        A_1[i,3] += 1\n",
    "                            \n",
    "\n",
    "# Convert from counts to probabilities by row normalization\n",
    "A_0/=A_0.sum(axis=1)[:,np.newaxis]\n",
    "print('\\nTraining set 0 transitions [[AA AT AG AC][TA TT TG TC][GA GT GG GC][CA CT CG CC]]\\n',A_0)\n",
    "A_1/=A_1.sum(axis=1)[:,np.newaxis]\n",
    "print('\\nTraining set 1 transitions [[AA AT AG AC][TA TT TG TC][GA GT GG GC][CA CT CG CC]]\\n',A_1)\n",
    "\n",
    "#print(np.sum(A_0[0,:]))\n",
    "#print(np.sum(A_0[1,:]))\n",
    "#print(np.sum(A_0[2,:]))\n",
    "#print(np.sum(A_0[3,:]))\n",
    "\n",
    "\n",
    "##### Generate a synthetic sequence #####\n",
    "def generate_new_sequence(A,pi,n=20):\n",
    "    \"\"\"  \n",
    "    Arguments:\n",
    "    A -> Nucleobase transition matrix\n",
    "    pi -> Prior\n",
    "    n -> length of sequence to generate\n",
    "    \"\"\"\n",
    "    # Draw from the prior for the first nucleobase\n",
    "    #s = (np.random.choice(nucleobases,1,p=pi)).astype(str)\n",
    "    #seq = np.zeros(n).astype(str)\n",
    "    #seq = np.chararray((20))\n",
    "    #seq[0] = str(s)\n",
    "    #print(seq)\n",
    "    \n",
    "    s = (np.random.choice(len(nucleobases),1,p=pi))\n",
    "    seq = np.zeros(n)\n",
    "    seq[0] = int(s)\n",
    "    \n",
    "    for i in range(n-1):\n",
    "        #need to grab the row from A matrix that corresonds to current nucleobase\n",
    "        #0=A, 1=T, 2=G 3=C\n",
    "        next_base_prob = (A[int(seq[i]),:]) \n",
    "        #print(next_base_prob)\n",
    "        next_base = (np.random.choice(len(nucleobases), 1, p=next_base_prob))\n",
    "        seq[i+1] = int(next_base)\n",
    "  \n",
    "    seq = seq.astype(str)\n",
    "    \n",
    "    for j in range(len(seq)):\n",
    "        if seq[j] == str(0.0):\n",
    "            seq[j] = str('A')\n",
    "        elif seq[j] == str(1.0):\n",
    "            seq[j] = str('T')\n",
    "        elif seq[j] == str(2.0):\n",
    "            seq[j] = str('G')\n",
    "        elif seq[j] == str(3.0):\n",
    "            seq[j] = str('C')\n",
    "    \n",
    "    return seq\n",
    "\n",
    "seq_ts0 = generate_new_sequence(A_0, pi_0, n=20)\n",
    "print('\\nSimulated Sequence 0\\n',seq_ts0)\n",
    "seq_ts1 = generate_new_sequence(A_1, pi_1, n=20)\n",
    "print('\\nSimulated Sequence 1\\n', seq_ts1)"
   ]
  },
  {
   "cell_type": "markdown",
   "metadata": {},
   "source": [
    "The training set priors represent the total frequency of each nucleotide in the training set divided by the total number of nucleotides.  In training set 0, A T and G should appear about equally with C appearing less.  Training set 1 is skewed to have a higher probability of A and C occurring.  \n",
    "\n",
    "The training set transition matrix represents the frequency of a nucleotide transitioning to another nucleotide.  This is then normalized by the total number of transitions for a given nucleotide.  In the matrices above, the first row is nucleotide A transitioning to A T G C, respectively (represented by the rows).  Row 2, 3, and 4, represent the T, G, and C transitions, repectively. What stands out in both of these transitions’ matrix is that transition from G to C is very unlikely.\n",
    "\n"
   ]
  },
  {
   "cell_type": "markdown",
   "metadata": {},
   "source": [
    "### 2b. A Markov classifier (*) (20 pts)\n"
   ]
  },
  {
   "cell_type": "markdown",
   "metadata": {},
   "source": [
    "Having the prior and transition probabilities gives you the ability to evaluate the likelihood of a sequence for a given class as:\n",
    "$$\n",
    "P(\\mathbf{s}) = P(s_1|\\mathbf{\\pi}_c) \\prod_{i=1}^{n-1} P(s_{i+1}|s_{i},\\mathcal{A}_c),\n",
    "$$\n",
    "where $\\mathbf{\\pi}_c$ is the class-conditioned prior probability, and $\\mathcal{A}_c$ is the class-conditioned transition matrix.  Comparing the computed likelihood for a given sequence between different classes forms the basis of a classifier in a very similar manner to naive Bayes.  The difference this time is that now each random variable depends on the one before it in the sequence, whereas in naive Bayes we assumed that all the random variables were independent.    \n",
    "\n",
    "Load the file genes\\_test.p, which is similar to genes\\_training.p.  **For each sequence, compute the likelihood for both classes and assign a label.  Compare this predicted label to the known one, and report the test set accuracy**.  As a point of comparison, my implementation achieved 98.7\\% accuracy.  "
   ]
  },
  {
   "cell_type": "code",
   "execution_count": 7,
   "metadata": {},
   "outputs": [],
   "source": [
    "sequences_test,labels_test = pickle.load(open('genes_test.p','rb'))\n",
    "\n",
    "def mapper(seq_list):\n",
    "    \"\"\"turns sequence of nucleobases into numbers that match the indexing of the transition matrices\n",
    "    A = 0, T = 1, G =2, C = 3\n",
    "    \"\"\"\n",
    "    nrows = len(seq_list)\n",
    "    ncols = len(seq_list[0])\n",
    "    sequence_nums = np.zeros((int(nrows), int(ncols)),dtype=int)\n",
    "    \n",
    "    for i in range(len(seq_list)):\n",
    "        for j in range(len(seq_list[0])):\n",
    "            if seq_list[i][j] == 'A':\n",
    "                sequence_nums[i][j] = int(0)\n",
    "            if seq_list[i][j] == 'T':\n",
    "                sequence_nums[i][j] = int(1)\n",
    "            if seq_list[i][j] == 'G':\n",
    "                sequence_nums[i][j] = int(2)\n",
    "            if seq_list[i][j] =='C':\n",
    "                sequence_nums[i][j] = int(3)\n",
    "    return sequence_nums\n",
    "               \n",
    "def get_likelihood(sequence, trans_mat):\n",
    "    \"\"\"sequence is the sequence of nucleobases in ATGC\n",
    "    trans_mat is the trasition matrix from the training set\n",
    "    \n",
    "    This function evaluates the likelihood that a given sequence of nucleobases came from a the given traning set class\n",
    "    It does this by multiplying the probability of each transition that occured together\n",
    "    Hence, each sequence of the 20 nucleobases has a particular likelihood of being part of class 0 or 1\"\"\"\n",
    "    sequence_nums = mapper(sequence)\n",
    "    likelihood = np.ones(len(sequence_nums))\n",
    "\n",
    "    for s in range(len(sequence_nums)): #iterate through each sequence\n",
    "        for p in range(len(sequence_nums[0])-1): #iterate through each nucleobase in a sequence\n",
    "            first_index = sequence_nums[s][p]\n",
    "            second_index = sequence_nums[s][p+1]\n",
    "            A = trans_mat[first_index, second_index]\n",
    "            #print (A, [first_index,second_index])\n",
    "            likelihood[s] *= A\n",
    "    return likelihood\n",
    "\n",
    "def get_prior(sequence, pri_array):\n",
    "    \"\"\"get the prior of for the first nucleobase based on each class of training set\"\"\"\n",
    "    prior = np.array([])\n",
    "    for s in sequence:\n",
    "        for i in range(len(nucleobases)):\n",
    "            if s[0] == nucleobases[i]:\n",
    "                pri = pi_0[i]\n",
    "                prior = np.append(prior, pri)\n",
    "    return prior"
   ]
  },
  {
   "cell_type": "code",
   "execution_count": 8,
   "metadata": {},
   "outputs": [
    {
     "name": "stdout",
     "output_type": "stream",
     "text": [
      "Total number of sequences:  1000\n",
      "Number of sequences correctly classified:  988\n",
      "Accuracy = 98.8 percent\n"
     ]
    }
   ],
   "source": [
    "#likelhood and prior for the test sequences belonging to class 0\n",
    "likelihood_0 = get_likelihood(sequences_test, A_0)\n",
    "prior_0 = get_prior(sequences_test, pi_0)\n",
    "#likelihood and prior for the test sequences belonging to class 1\n",
    "likelihood_1 = get_likelihood(sequences_test, A_1)\n",
    "prior_1 = get_prior(sequences_test, pi_1)\n",
    "\n",
    "#probability of a sequence belogning to class 0 or 1 is the likelihood multiplied by the prior\n",
    "sequence_probabilities_0 = [prior_0*likelihood_0]\n",
    "sequence_probabilities_1 = [prior_1*likelihood_1]\n",
    "\n",
    "#get the odds ratio by taking the log of the probability ratio\n",
    "log_like_ratio = np.log(sequence_probabilities_0) - np.log(sequence_probabilities_1)\n",
    "\n",
    "#get the predicted classification (0 or 1) of the sequences\n",
    "group = np.zeros(len(sequences_test)).astype(int)\n",
    "for i in range(len(log_like_ratio[0])):\n",
    "    if log_like_ratio[0][i] < 0:\n",
    "        group[i] = int(1)               \n",
    "\n",
    "#compare classification to actual sequence labels\n",
    "count = 0\n",
    "for z in range(len(group)):\n",
    "    if int(group[z]) == int(labels_test[z]):\n",
    "        count += 1\n",
    "\n",
    "accuracy = float(count)/len(labels_test)*100\n",
    "\n",
    "\n",
    "print ('Total number of sequences: ', len(labels_test))\n",
    "print ('Number of sequences correctly classified: ', count)\n",
    "print ('Accuracy = %.1f percent'  % (accuracy))\n"
   ]
  },
  {
   "cell_type": "markdown",
   "metadata": {},
   "source": [
    "An accuracy of 98.8% indicates that we correctly identified which class (0 or 1) produced the test sequences 988 out of the 1000 sequences.  This is remarkably high given this was just a first order Markov model, meaning we only had a 1 step memory.  This also seems remarkable given that (based on visual inspection) the training data priors and transitions matrices do not seem incredibly different and we were only considering a length 20 sequence.  I would expect that if longer strings were considered the statistics would be more robust and the accuracy would increase."
   ]
  },
  {
   "cell_type": "code",
   "execution_count": null,
   "metadata": {},
   "outputs": [],
   "source": []
  }
 ],
 "metadata": {
  "kernelspec": {
   "display_name": "Python 3",
   "language": "python",
   "name": "python3"
  },
  "language_info": {
   "codemirror_mode": {
    "name": "ipython",
    "version": 3
   },
   "file_extension": ".py",
   "mimetype": "text/x-python",
   "name": "python",
   "nbconvert_exporter": "python",
   "pygments_lexer": "ipython3",
   "version": "3.6.5"
  }
 },
 "nbformat": 4,
 "nbformat_minor": 2
}
